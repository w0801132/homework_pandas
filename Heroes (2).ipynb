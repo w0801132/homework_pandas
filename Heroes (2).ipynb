{
 "cells": [
  {
   "cell_type": "code",
   "execution_count": 1,
   "metadata": {},
   "outputs": [
    {
     "data": {
      "text/html": [
       "<div>\n",
       "<style scoped>\n",
       "    .dataframe tbody tr th:only-of-type {\n",
       "        vertical-align: middle;\n",
       "    }\n",
       "\n",
       "    .dataframe tbody tr th {\n",
       "        vertical-align: top;\n",
       "    }\n",
       "\n",
       "    .dataframe thead th {\n",
       "        text-align: right;\n",
       "    }\n",
       "</style>\n",
       "<table border=\"1\" class=\"dataframe\">\n",
       "  <thead>\n",
       "    <tr style=\"text-align: right;\">\n",
       "      <th></th>\n",
       "      <th>Purchase ID</th>\n",
       "      <th>SN</th>\n",
       "      <th>Age</th>\n",
       "      <th>Gender</th>\n",
       "      <th>Item ID</th>\n",
       "      <th>Item Name</th>\n",
       "      <th>Price</th>\n",
       "    </tr>\n",
       "  </thead>\n",
       "  <tbody>\n",
       "    <tr>\n",
       "      <th>0</th>\n",
       "      <td>0</td>\n",
       "      <td>Lisim78</td>\n",
       "      <td>20</td>\n",
       "      <td>Male</td>\n",
       "      <td>108</td>\n",
       "      <td>Extraction, Quickblade Of Trembling Hands</td>\n",
       "      <td>3.53</td>\n",
       "    </tr>\n",
       "    <tr>\n",
       "      <th>1</th>\n",
       "      <td>1</td>\n",
       "      <td>Lisovynya38</td>\n",
       "      <td>40</td>\n",
       "      <td>Male</td>\n",
       "      <td>143</td>\n",
       "      <td>Frenzied Scimitar</td>\n",
       "      <td>1.56</td>\n",
       "    </tr>\n",
       "    <tr>\n",
       "      <th>2</th>\n",
       "      <td>2</td>\n",
       "      <td>Ithergue48</td>\n",
       "      <td>24</td>\n",
       "      <td>Male</td>\n",
       "      <td>92</td>\n",
       "      <td>Final Critic</td>\n",
       "      <td>4.88</td>\n",
       "    </tr>\n",
       "    <tr>\n",
       "      <th>3</th>\n",
       "      <td>3</td>\n",
       "      <td>Chamassasya86</td>\n",
       "      <td>24</td>\n",
       "      <td>Male</td>\n",
       "      <td>100</td>\n",
       "      <td>Blindscythe</td>\n",
       "      <td>3.27</td>\n",
       "    </tr>\n",
       "    <tr>\n",
       "      <th>4</th>\n",
       "      <td>4</td>\n",
       "      <td>Iskosia90</td>\n",
       "      <td>23</td>\n",
       "      <td>Male</td>\n",
       "      <td>131</td>\n",
       "      <td>Fury</td>\n",
       "      <td>1.44</td>\n",
       "    </tr>\n",
       "  </tbody>\n",
       "</table>\n",
       "</div>"
      ],
      "text/plain": [
       "   Purchase ID             SN  Age Gender  Item ID  \\\n",
       "0            0        Lisim78   20   Male      108   \n",
       "1            1    Lisovynya38   40   Male      143   \n",
       "2            2     Ithergue48   24   Male       92   \n",
       "3            3  Chamassasya86   24   Male      100   \n",
       "4            4      Iskosia90   23   Male      131   \n",
       "\n",
       "                                   Item Name  Price  \n",
       "0  Extraction, Quickblade Of Trembling Hands   3.53  \n",
       "1                          Frenzied Scimitar   1.56  \n",
       "2                               Final Critic   4.88  \n",
       "3                                Blindscythe   3.27  \n",
       "4                                       Fury   1.44  "
      ]
     },
     "execution_count": 1,
     "metadata": {},
     "output_type": "execute_result"
    }
   ],
   "source": [
    "# Dependencies and Setup\n",
    "import pandas as pd\n",
    "import numpy as np\n",
    "\n",
    "# File to Load (Remember to Change These)\n",
    "ogfile = \"C:/Users/ginaf/purchase_data.csv\"\n",
    "\n",
    "# Read Purchasing File and store into Pandas data frame\n",
    "ogdata = pd.read_csv(ogfile)\n",
    "ogdata.head()"
   ]
  },
  {
   "cell_type": "code",
   "execution_count": 2,
   "metadata": {},
   "outputs": [],
   "source": [
    "#list(ogdata)"
   ]
  },
  {
   "cell_type": "code",
   "execution_count": 3,
   "metadata": {},
   "outputs": [],
   "source": [
    "#Display the total number of players\n",
    "ddupdata=ogdata.SN.drop_duplicates()\n",
    "#ddupdata.describe()"
   ]
  },
  {
   "cell_type": "code",
   "execution_count": 4,
   "metadata": {},
   "outputs": [],
   "source": [
    "#ddupdata.head()"
   ]
  },
  {
   "cell_type": "code",
   "execution_count": 5,
   "metadata": {},
   "outputs": [],
   "source": [
    "nadrop=ogdata.drop_duplicates(['SN'], 'first')\n",
    "#nadrop.head()"
   ]
  },
  {
   "cell_type": "code",
   "execution_count": 6,
   "metadata": {},
   "outputs": [],
   "source": [
    "#nadrop.describe()"
   ]
  },
  {
   "cell_type": "code",
   "execution_count": 7,
   "metadata": {},
   "outputs": [
    {
     "data": {
      "text/html": [
       "<div>\n",
       "<style scoped>\n",
       "    .dataframe tbody tr th:only-of-type {\n",
       "        vertical-align: middle;\n",
       "    }\n",
       "\n",
       "    .dataframe tbody tr th {\n",
       "        vertical-align: top;\n",
       "    }\n",
       "\n",
       "    .dataframe thead th {\n",
       "        text-align: right;\n",
       "    }\n",
       "</style>\n",
       "<table border=\"1\" class=\"dataframe\">\n",
       "  <thead>\n",
       "    <tr style=\"text-align: right;\">\n",
       "      <th></th>\n",
       "      <th>Total Players</th>\n",
       "    </tr>\n",
       "  </thead>\n",
       "  <tbody>\n",
       "    <tr>\n",
       "      <th>0</th>\n",
       "      <td>576</td>\n",
       "    </tr>\n",
       "  </tbody>\n",
       "</table>\n",
       "</div>"
      ],
      "text/plain": [
       "   Total Players\n",
       "0            576"
      ]
     },
     "execution_count": 7,
     "metadata": {},
     "output_type": "execute_result"
    }
   ],
   "source": [
    "totalpl={'Total Players': [576]}\n",
    "distotal = pd.DataFrame(data=totalpl)\n",
    "distotal\n",
    "#there's probably a way better way of doing this, but I'm just thrilled I got it to work this way"
   ]
  },
  {
   "cell_type": "code",
   "execution_count": 8,
   "metadata": {},
   "outputs": [],
   "source": [
    "#Run basic calculations to obtain number of unique items, average price, etc.\n",
    "uitems=ogdata.drop_duplicates(['Item ID'], 'first')\n",
    "#uitems.head()"
   ]
  },
  {
   "cell_type": "code",
   "execution_count": 9,
   "metadata": {},
   "outputs": [],
   "source": [
    "#uitems.describe()"
   ]
  },
  {
   "cell_type": "code",
   "execution_count": 10,
   "metadata": {},
   "outputs": [],
   "source": [
    "#ogdata.describe()"
   ]
  },
  {
   "cell_type": "code",
   "execution_count": 11,
   "metadata": {},
   "outputs": [],
   "source": [
    "#len(ogdata['Purchase ID'])"
   ]
  },
  {
   "cell_type": "code",
   "execution_count": 12,
   "metadata": {},
   "outputs": [],
   "source": [
    "#sum(ogdata['Price'])"
   ]
  },
  {
   "cell_type": "code",
   "execution_count": 13,
   "metadata": {},
   "outputs": [
    {
     "data": {
      "text/html": [
       "<div>\n",
       "<style scoped>\n",
       "    .dataframe tbody tr th:only-of-type {\n",
       "        vertical-align: middle;\n",
       "    }\n",
       "\n",
       "    .dataframe tbody tr th {\n",
       "        vertical-align: top;\n",
       "    }\n",
       "\n",
       "    .dataframe thead th {\n",
       "        text-align: right;\n",
       "    }\n",
       "</style>\n",
       "<table border=\"1\" class=\"dataframe\">\n",
       "  <thead>\n",
       "    <tr style=\"text-align: right;\">\n",
       "      <th></th>\n",
       "      <th>Unique Items</th>\n",
       "      <th>Average Price</th>\n",
       "      <th>Number of Purchases</th>\n",
       "      <th>Total Revenue</th>\n",
       "    </tr>\n",
       "  </thead>\n",
       "  <tbody>\n",
       "    <tr>\n",
       "      <th>0</th>\n",
       "      <td>183</td>\n",
       "      <td>$3.07</td>\n",
       "      <td>780</td>\n",
       "      <td>$2,379.77</td>\n",
       "    </tr>\n",
       "  </tbody>\n",
       "</table>\n",
       "</div>"
      ],
      "text/plain": [
       "   Unique Items Average Price  Number of Purchases Total Revenue\n",
       "0           183         $3.07                  780     $2,379.77"
      ]
     },
     "execution_count": 13,
     "metadata": {},
     "output_type": "execute_result"
    }
   ],
   "source": [
    "#Create a summary data frame to hold the results\n",
    "disbasic={'Unique Items': [183], 'Average Price': ['$3.07'], 'Number of Purchases': [780], 'Total Revenue': ['$2,379.77']}\n",
    "\n",
    "#Optional: give the displayed data cleaner formatting\n",
    "\n",
    "\n",
    "#Display the summary data frame\n",
    "disbas = pd.DataFrame(data=disbasic)\n",
    "disbas\n",
    "#Again, probably less shitty ways of doing it, but I did it"
   ]
  },
  {
   "cell_type": "code",
   "execution_count": 14,
   "metadata": {},
   "outputs": [],
   "source": [
    "#Percentage and Count of Male Players\n",
    "onlyboys=nadrop.loc[ogdata['Gender']== \"Male\"]\n",
    "#onlyboys.describe()"
   ]
  },
  {
   "cell_type": "code",
   "execution_count": 15,
   "metadata": {},
   "outputs": [],
   "source": [
    "#Percentage and Count of Female Players\n",
    "onlywomen=nadrop.loc[ogdata['Gender']== \"Female\"]\n",
    "#onlywomen.describe()"
   ]
  },
  {
   "cell_type": "code",
   "execution_count": 16,
   "metadata": {},
   "outputs": [],
   "source": [
    "#Percentage and Count of Other / Non-Disclosed\n",
    "onlyb=484\n",
    "onlyw=81\n",
    "totalppl=576\n",
    "otherppl=(totalppl-(onlyb+onlyw))"
   ]
  },
  {
   "cell_type": "code",
   "execution_count": 17,
   "metadata": {},
   "outputs": [],
   "source": [
    "others=nadrop.loc[ogdata['Gender']== \"Other / Non-Disclosed\"]\n",
    "#others.describe()"
   ]
  },
  {
   "cell_type": "code",
   "execution_count": 18,
   "metadata": {},
   "outputs": [
    {
     "data": {
      "text/html": [
       "<div>\n",
       "<style scoped>\n",
       "    .dataframe tbody tr th:only-of-type {\n",
       "        vertical-align: middle;\n",
       "    }\n",
       "\n",
       "    .dataframe tbody tr th {\n",
       "        vertical-align: top;\n",
       "    }\n",
       "\n",
       "    .dataframe thead th {\n",
       "        text-align: right;\n",
       "    }\n",
       "</style>\n",
       "<table border=\"1\" class=\"dataframe\">\n",
       "  <thead>\n",
       "    <tr style=\"text-align: right;\">\n",
       "      <th></th>\n",
       "      <th></th>\n",
       "      <th>Total Count</th>\n",
       "      <th>Percentage of Players</th>\n",
       "    </tr>\n",
       "  </thead>\n",
       "  <tbody>\n",
       "    <tr>\n",
       "      <th>0</th>\n",
       "      <td>Male</td>\n",
       "      <td>484</td>\n",
       "      <td>84.03%</td>\n",
       "    </tr>\n",
       "    <tr>\n",
       "      <th>1</th>\n",
       "      <td>Female</td>\n",
       "      <td>81</td>\n",
       "      <td>14.06%</td>\n",
       "    </tr>\n",
       "    <tr>\n",
       "      <th>2</th>\n",
       "      <td>Other/Non-Disclosed</td>\n",
       "      <td>11</td>\n",
       "      <td>1.91%</td>\n",
       "    </tr>\n",
       "  </tbody>\n",
       "</table>\n",
       "</div>"
      ],
      "text/plain": [
       "                        Total Count Percentage of Players\n",
       "0                 Male          484                84.03%\n",
       "1               Female           81                14.06%\n",
       "2  Other/Non-Disclosed           11                 1.91%"
      ]
     },
     "execution_count": 18,
     "metadata": {},
     "output_type": "execute_result"
    }
   ],
   "source": [
    "playinfo={' ': ['Male', 'Female', 'Other/Non-Disclosed'],\n",
    "          'Total Count': [onlyb, onlyw, otherppl],\n",
    "          'Percentage of Players': [((onlyb/totalppl)*100), ((onlyw/totalppl)*100), ((otherppl/totalppl)*100)]}\n",
    "\n",
    "#Display the summary data frame\n",
    "playinfodf = pd.DataFrame(data=playinfo)\n",
    "\n",
    "#Optional: give the displayed data cleaner formatting\n",
    "playinfodf['Percentage of Players']=playinfodf[\"Percentage of Players\"].map(\"{0:.2f}%\".format)\n",
    "\n",
    "\n",
    "playinfodf"
   ]
  },
  {
   "cell_type": "code",
   "execution_count": 19,
   "metadata": {},
   "outputs": [],
   "source": [
    "#ogdata.describe()"
   ]
  },
  {
   "cell_type": "code",
   "execution_count": 20,
   "metadata": {},
   "outputs": [],
   "source": [
    "#Run basic calculations to obtain purchase count, avg. purchase price, avg. purchase total per person etc. by gender\n",
    "purch=ogdata.loc[:, ['Purchase ID', 'Gender']]\n",
    "#purch.head()"
   ]
  },
  {
   "cell_type": "code",
   "execution_count": 21,
   "metadata": {},
   "outputs": [],
   "source": [
    "boybuy=purch.loc[ogdata['Gender']== \"Male\"]\n",
    "boybuy.describe()\n",
    "bbuy=652"
   ]
  },
  {
   "cell_type": "code",
   "execution_count": 22,
   "metadata": {},
   "outputs": [],
   "source": [
    "wobuy=purch.loc[ogdata['Gender']== \"Female\"]\n",
    "wobuy.describe()\n",
    "wbuy=113"
   ]
  },
  {
   "cell_type": "code",
   "execution_count": 23,
   "metadata": {},
   "outputs": [],
   "source": [
    "pplbuy=purch.loc[ogdata['Gender']== \"Other / Non-Disclosed\"]\n",
    "pplbuy.describe()\n",
    "pbuy=15"
   ]
  },
  {
   "cell_type": "code",
   "execution_count": 24,
   "metadata": {},
   "outputs": [],
   "source": [
    "avgprice=ogdata.loc[:, ['Price', 'Gender']]\n",
    "#avgprice.head()"
   ]
  },
  {
   "cell_type": "code",
   "execution_count": 25,
   "metadata": {},
   "outputs": [],
   "source": [
    "boyprice=avgprice.loc[ogdata['Gender']== \"Male\"]\n",
    "boyprice.describe()\n",
    "bavg=3.02"
   ]
  },
  {
   "cell_type": "code",
   "execution_count": 26,
   "metadata": {},
   "outputs": [],
   "source": [
    "woprice=avgprice.loc[ogdata['Gender']== \"Female\"]\n",
    "woprice.describe()\n",
    "wavg=3.20"
   ]
  },
  {
   "cell_type": "code",
   "execution_count": 27,
   "metadata": {},
   "outputs": [],
   "source": [
    "plprice=avgprice.loc[ogdata['Gender']== \"Other / Non-Disclosed\"]\n",
    "plprice.describe()\n",
    "plavg=3.35"
   ]
  },
  {
   "cell_type": "code",
   "execution_count": 28,
   "metadata": {},
   "outputs": [],
   "source": [
    "pltotal=sum(plprice['Price'])\n",
    "#pltotal"
   ]
  },
  {
   "cell_type": "code",
   "execution_count": 29,
   "metadata": {},
   "outputs": [],
   "source": [
    "#plmean=plprice['Price'].mean()\n",
    "#plmean"
   ]
  },
  {
   "cell_type": "code",
   "execution_count": 30,
   "metadata": {},
   "outputs": [],
   "source": [
    "perpl=pltotal/otherppl\n",
    "#perpl"
   ]
  },
  {
   "cell_type": "code",
   "execution_count": 31,
   "metadata": {},
   "outputs": [
    {
     "data": {
      "text/html": [
       "<div>\n",
       "<style scoped>\n",
       "    .dataframe tbody tr th:only-of-type {\n",
       "        vertical-align: middle;\n",
       "    }\n",
       "\n",
       "    .dataframe tbody tr th {\n",
       "        vertical-align: top;\n",
       "    }\n",
       "\n",
       "    .dataframe thead th {\n",
       "        text-align: right;\n",
       "    }\n",
       "</style>\n",
       "<table border=\"1\" class=\"dataframe\">\n",
       "  <thead>\n",
       "    <tr style=\"text-align: right;\">\n",
       "      <th></th>\n",
       "      <th>Gender</th>\n",
       "      <th>Purchase Count</th>\n",
       "      <th>Average Purchase Price</th>\n",
       "      <th>Total Purchase Value</th>\n",
       "      <th>Avg Total Purchase Per Player</th>\n",
       "    </tr>\n",
       "  </thead>\n",
       "  <tbody>\n",
       "    <tr>\n",
       "      <th>0</th>\n",
       "      <td>Male</td>\n",
       "      <td>652</td>\n",
       "      <td>$ 3.02</td>\n",
       "      <td>$ 1,967.64</td>\n",
       "      <td>$ 4.07</td>\n",
       "    </tr>\n",
       "    <tr>\n",
       "      <th>1</th>\n",
       "      <td>Female</td>\n",
       "      <td>113</td>\n",
       "      <td>$ 3.20</td>\n",
       "      <td>$ 361.94</td>\n",
       "      <td>$ 4.47</td>\n",
       "    </tr>\n",
       "    <tr>\n",
       "      <th>2</th>\n",
       "      <td>Other/Non-Disclosed</td>\n",
       "      <td>15</td>\n",
       "      <td>$ 3.35</td>\n",
       "      <td>$ 50.19</td>\n",
       "      <td>$ 4.56</td>\n",
       "    </tr>\n",
       "  </tbody>\n",
       "</table>\n",
       "</div>"
      ],
      "text/plain": [
       "                Gender  Purchase Count Average Purchase Price  \\\n",
       "0                 Male             652                 $ 3.02   \n",
       "1               Female             113                 $ 3.20   \n",
       "2  Other/Non-Disclosed              15                 $ 3.35   \n",
       "\n",
       "  Total Purchase Value Avg Total Purchase Per Player  \n",
       "0           $ 1,967.64                        $ 4.07  \n",
       "1             $ 361.94                        $ 4.47  \n",
       "2              $ 50.19                        $ 4.56  "
      ]
     },
     "execution_count": 31,
     "metadata": {},
     "output_type": "execute_result"
    }
   ],
   "source": [
    "#Create a summary data frame to hold the results\n",
    "purchinfo={'Gender': ['Male', 'Female', 'Other/Non-Disclosed'], \n",
    "           'Purchase Count': [bbuy, wbuy, pbuy], \n",
    "           'Average Purchase Price': [bavg, wavg, plavg], \n",
    "           'Total Purchase Value': [ (sum(boyprice['Price'])), (sum(woprice['Price'])), (sum(plprice['Price'])) ], \n",
    "           'Avg Total Purchase Per Player': [(sum(boyprice['Price'])/onlyb), (sum(woprice['Price'])/onlyw), (sum(plprice['Price'])/otherppl)]}\n",
    "\n",
    "purchinfodf = pd.DataFrame(data=purchinfo)\n",
    "\n",
    "#Optional: give the displayed data cleaner formatting\n",
    "#hosted_in_us[\"average_donation\"] = hosted_in_us[\"average_donation\"].astype(float).map(\"${:,.2f}\".format)\n",
    "purchinfodf[\"Average Purchase Price\"]=purchinfodf[\"Average Purchase Price\"].map(\"${: ,.2f}\".format)\n",
    "purchinfodf[\"Total Purchase Value\"]=purchinfodf[\"Total Purchase Value\"].map(\"${: ,.2f}\".format)\n",
    "purchinfodf[\"Avg Total Purchase Per Player\"]=purchinfodf[\"Avg Total Purchase Per Player\"].map(\"${: ,.2f}\".format)\n",
    "\n",
    "purchinfodf"
   ]
  },
  {
   "cell_type": "code",
   "execution_count": 32,
   "metadata": {},
   "outputs": [],
   "source": [
    "#Establish bins for ages\n",
    "bins = [0, 10, 15, 20, 25, 30, 35, 40, 50]\n",
    "group_labels = [\"<10\", \"10-14\", \"15-19\", \"20-24\", \"25-29\", \"30-34\", \"35-39\", \"40+\"]\n",
    "\n",
    "\n",
    "#Categorize the existing players using the age bins. Hint: use pd.cut()\n",
    "binned_data=pd.cut(nadrop['Age'], bins, labels=group_labels, right=False)\n",
    "#binned_data.head()"
   ]
  },
  {
   "cell_type": "code",
   "execution_count": 33,
   "metadata": {},
   "outputs": [
    {
     "name": "stderr",
     "output_type": "stream",
     "text": [
      "C:\\Users\\ginaf\\Anaconda3\\envs\\PythonData\\lib\\site-packages\\ipykernel_launcher.py:1: SettingWithCopyWarning: \n",
      "A value is trying to be set on a copy of a slice from a DataFrame.\n",
      "Try using .loc[row_indexer,col_indexer] = value instead\n",
      "\n",
      "See the caveats in the documentation: http://pandas.pydata.org/pandas-docs/stable/indexing.html#indexing-view-versus-copy\n",
      "  \"\"\"Entry point for launching an IPython kernel.\n"
     ]
    }
   ],
   "source": [
    "nadrop['Age Group']=binned_data\n",
    "#nadrop.head()"
   ]
  },
  {
   "cell_type": "code",
   "execution_count": 34,
   "metadata": {},
   "outputs": [],
   "source": [
    "grouped_age=nadrop.groupby(['Age Group'])\n",
    "#grouped_age.head()"
   ]
  },
  {
   "cell_type": "code",
   "execution_count": 35,
   "metadata": {},
   "outputs": [],
   "source": [
    "#Calculate the numbers and percentages by age group\n",
    "#grouped_age.count()\n"
   ]
  },
  {
   "cell_type": "code",
   "execution_count": 36,
   "metadata": {},
   "outputs": [
    {
     "data": {
      "text/html": [
       "<div>\n",
       "<style scoped>\n",
       "    .dataframe tbody tr th:only-of-type {\n",
       "        vertical-align: middle;\n",
       "    }\n",
       "\n",
       "    .dataframe tbody tr th {\n",
       "        vertical-align: top;\n",
       "    }\n",
       "\n",
       "    .dataframe thead th {\n",
       "        text-align: right;\n",
       "    }\n",
       "</style>\n",
       "<table border=\"1\" class=\"dataframe\">\n",
       "  <thead>\n",
       "    <tr style=\"text-align: right;\">\n",
       "      <th></th>\n",
       "      <th></th>\n",
       "      <th>Total Count</th>\n",
       "      <th>Percentage of Players</th>\n",
       "    </tr>\n",
       "  </thead>\n",
       "  <tbody>\n",
       "    <tr>\n",
       "      <th>0</th>\n",
       "      <td>&lt;10</td>\n",
       "      <td>17</td>\n",
       "      <td>2.951389</td>\n",
       "    </tr>\n",
       "    <tr>\n",
       "      <th>1</th>\n",
       "      <td>10-14</td>\n",
       "      <td>22</td>\n",
       "      <td>3.819444</td>\n",
       "    </tr>\n",
       "    <tr>\n",
       "      <th>2</th>\n",
       "      <td>15-19</td>\n",
       "      <td>107</td>\n",
       "      <td>18.576389</td>\n",
       "    </tr>\n",
       "    <tr>\n",
       "      <th>3</th>\n",
       "      <td>20-24</td>\n",
       "      <td>258</td>\n",
       "      <td>44.791667</td>\n",
       "    </tr>\n",
       "    <tr>\n",
       "      <th>4</th>\n",
       "      <td>25-29</td>\n",
       "      <td>77</td>\n",
       "      <td>13.368056</td>\n",
       "    </tr>\n",
       "    <tr>\n",
       "      <th>5</th>\n",
       "      <td>30-34</td>\n",
       "      <td>52</td>\n",
       "      <td>9.027778</td>\n",
       "    </tr>\n",
       "    <tr>\n",
       "      <th>6</th>\n",
       "      <td>35-39</td>\n",
       "      <td>31</td>\n",
       "      <td>5.381944</td>\n",
       "    </tr>\n",
       "    <tr>\n",
       "      <th>7</th>\n",
       "      <td>40+</td>\n",
       "      <td>12</td>\n",
       "      <td>2.083333</td>\n",
       "    </tr>\n",
       "  </tbody>\n",
       "</table>\n",
       "</div>"
      ],
      "text/plain": [
       "         Total Count  Percentage of Players\n",
       "0    <10          17               2.951389\n",
       "1  10-14          22               3.819444\n",
       "2  15-19         107              18.576389\n",
       "3  20-24         258              44.791667\n",
       "4  25-29          77              13.368056\n",
       "5  30-34          52               9.027778\n",
       "6  35-39          31               5.381944\n",
       "7    40+          12               2.083333"
      ]
     },
     "execution_count": 36,
     "metadata": {},
     "output_type": "execute_result"
    }
   ],
   "source": [
    "#Create a summary data frame to hold the results\n",
    "agestuff={' ': [\"<10\", \"10-14\", \"15-19\", \"20-24\", \"25-29\", \"30-34\", \"35-39\", \"40+\"],\n",
    "          'Total Count': [\"17\", \"22\", \"107\", \"258\", \"77\", \"52\", \"31\", \"12\"],\n",
    "          'Percentage of Players': [((17/576)*100), ((22/576)*100), ((107/576)*100), ((258/576)*100), ((77/576)*100), ((52/576)*100), ((31/576)*100), ((12/576)*100)]}\n",
    "\n",
    "#Optional: round the percentage column to two decimal points\n",
    "#agestuff['Percentage of Players']=agestuff['Percentage of Players'].map(\"{0:.2f}%\".format)\n",
    "\n",
    "#Display Age Demographics Table\n",
    "agestuffdf = pd.DataFrame(data=agestuff)\n",
    "agestuffdf"
   ]
  },
  {
   "cell_type": "code",
   "execution_count": 37,
   "metadata": {},
   "outputs": [],
   "source": [
    "#Bin the purchase_data data frame by age\n",
    "bins = [0, 10, 15, 20, 25, 30, 35, 40, 50]\n",
    "group_labels = [\"<10\", \"10-14\", \"15-19\", \"20-24\", \"25-29\", \"30-34\", \"35-39\", \"40+\"]\n",
    "\n",
    "\n",
    "#Categorize the existing players using the age bins. Hint: use pd.cut()\n",
    "binned_dataog=pd.cut(ogdata['Age'], bins, labels=group_labels, right=False)\n",
    "ogdata['Age Group']=binned_dataog\n",
    "#ogdata.head()\n",
    "#nadrop.describe()\n",
    "#ogdata.describe()"
   ]
  },
  {
   "cell_type": "code",
   "execution_count": 38,
   "metadata": {},
   "outputs": [],
   "source": [
    "#Run basic calculations to obtain purchase count, avg. purchase price, avg. purchase total per person etc. in the table below\n",
    "purchage=ogdata.loc[:, ['Price', 'Age Group']]\n",
    "#purchage.head()\n",
    "#purchage.describe()"
   ]
  },
  {
   "cell_type": "code",
   "execution_count": 39,
   "metadata": {},
   "outputs": [],
   "source": [
    "price1=purchage.loc[ogdata['Age Group']== \"<10\"]\n",
    "#price1.describe()\n",
    "count1=23\n",
    "pr1=3.35"
   ]
  },
  {
   "cell_type": "code",
   "execution_count": 40,
   "metadata": {},
   "outputs": [],
   "source": [
    "price2=purchage.loc[ogdata['Age Group']== \"10-14\"]\n",
    "#price2.describe()\n",
    "count2=28\n",
    "pr2=2.95"
   ]
  },
  {
   "cell_type": "code",
   "execution_count": 41,
   "metadata": {},
   "outputs": [],
   "source": [
    "price3=purchage.loc[ogdata['Age Group']== \"15-19\"]\n",
    "#price3.describe()\n",
    "count3=136\n",
    "pr3=3.03"
   ]
  },
  {
   "cell_type": "code",
   "execution_count": 42,
   "metadata": {},
   "outputs": [],
   "source": [
    "price4=purchage.loc[ogdata['Age Group']== \"20-24\"]\n",
    "#price4.describe()\n",
    "count4=365\n",
    "pr4=3.05"
   ]
  },
  {
   "cell_type": "code",
   "execution_count": 43,
   "metadata": {},
   "outputs": [],
   "source": [
    "price5=purchage.loc[ogdata['Age Group']== \"25-29\"]\n",
    "#price5.describe()\n",
    "count5=101\n",
    "pr5=2.90"
   ]
  },
  {
   "cell_type": "code",
   "execution_count": 44,
   "metadata": {},
   "outputs": [],
   "source": [
    "price6=purchage.loc[ogdata['Age Group']== \"30-34\"]\n",
    "#price6.describe()\n",
    "count6=73\n",
    "pr6=2.93"
   ]
  },
  {
   "cell_type": "code",
   "execution_count": 45,
   "metadata": {},
   "outputs": [],
   "source": [
    "price7=purchage.loc[ogdata['Age Group']== \"35-39\"]\n",
    "#price7.describe()\n",
    "count7=41\n",
    "pr7=3.60"
   ]
  },
  {
   "cell_type": "code",
   "execution_count": 46,
   "metadata": {},
   "outputs": [],
   "source": [
    "price8=purchage.loc[ogdata['Age Group']== \"40+\"]\n",
    "#price8.describe()\n",
    "count8=13\n",
    "pr8=2.94"
   ]
  },
  {
   "cell_type": "code",
   "execution_count": 47,
   "metadata": {},
   "outputs": [],
   "source": [
    "#purchase_group=ogdata.groupby(['Age Group'])\n",
    "#purchase_group.head()\n",
    "\n",
    "#for group in purchase_group:\n",
    "    #sum(ogdata['Price'])\n",
    "\n",
    "# purch_group=ogdata.loc[:, ['Age Group', 'Price']]\n",
    "# purch_grouped = pd.DataFrame(data=purch_group)\n",
    "#purch_grouped\n",
    "\n",
    "\n",
    "#ogdata.groupby('Age Group').agg(lambda x:  {'sum': x.sum(), 'mean':x.mean()})\n",
    "#This was Coop's code, if you couldn't immediately tell.\n",
    "\n",
    "# purch_groupdf.head()"
   ]
  },
  {
   "cell_type": "code",
   "execution_count": 48,
   "metadata": {},
   "outputs": [
    {
     "data": {
      "text/html": [
       "<div>\n",
       "<style scoped>\n",
       "    .dataframe tbody tr th:only-of-type {\n",
       "        vertical-align: middle;\n",
       "    }\n",
       "\n",
       "    .dataframe tbody tr th {\n",
       "        vertical-align: top;\n",
       "    }\n",
       "\n",
       "    .dataframe thead th {\n",
       "        text-align: right;\n",
       "    }\n",
       "</style>\n",
       "<table border=\"1\" class=\"dataframe\">\n",
       "  <thead>\n",
       "    <tr style=\"text-align: right;\">\n",
       "      <th></th>\n",
       "      <th></th>\n",
       "      <th>Purchase Count</th>\n",
       "      <th>Average Purchase Price</th>\n",
       "      <th>Total Purchase Value</th>\n",
       "      <th>Avg Total Purchase Per Player</th>\n",
       "    </tr>\n",
       "  </thead>\n",
       "  <tbody>\n",
       "    <tr>\n",
       "      <th>0</th>\n",
       "      <td>&gt;10</td>\n",
       "      <td>23</td>\n",
       "      <td>$ 3.35</td>\n",
       "      <td>$77.13</td>\n",
       "      <td>$ 4.54</td>\n",
       "    </tr>\n",
       "    <tr>\n",
       "      <th>1</th>\n",
       "      <td>10-14</td>\n",
       "      <td>28</td>\n",
       "      <td>$ 2.95</td>\n",
       "      <td>$82.78</td>\n",
       "      <td>$ 3.76</td>\n",
       "    </tr>\n",
       "    <tr>\n",
       "      <th>2</th>\n",
       "      <td>15-19</td>\n",
       "      <td>136</td>\n",
       "      <td>$ 3.03</td>\n",
       "      <td>$412.89</td>\n",
       "      <td>$ 3.86</td>\n",
       "    </tr>\n",
       "    <tr>\n",
       "      <th>3</th>\n",
       "      <td>20-24</td>\n",
       "      <td>365</td>\n",
       "      <td>$ 3.05</td>\n",
       "      <td>$1,114.06</td>\n",
       "      <td>$ 4.32</td>\n",
       "    </tr>\n",
       "    <tr>\n",
       "      <th>4</th>\n",
       "      <td>25-29</td>\n",
       "      <td>101</td>\n",
       "      <td>$ 2.90</td>\n",
       "      <td>$292.99</td>\n",
       "      <td>$ 3.81</td>\n",
       "    </tr>\n",
       "    <tr>\n",
       "      <th>5</th>\n",
       "      <td>30-34</td>\n",
       "      <td>73</td>\n",
       "      <td>$ 2.93</td>\n",
       "      <td>$214.00</td>\n",
       "      <td>$ 4.12</td>\n",
       "    </tr>\n",
       "    <tr>\n",
       "      <th>6</th>\n",
       "      <td>35-39</td>\n",
       "      <td>41</td>\n",
       "      <td>$ 3.60</td>\n",
       "      <td>$147.67</td>\n",
       "      <td>$ 4.76</td>\n",
       "    </tr>\n",
       "    <tr>\n",
       "      <th>7</th>\n",
       "      <td>40+</td>\n",
       "      <td>13</td>\n",
       "      <td>$ 2.94</td>\n",
       "      <td>$38.24</td>\n",
       "      <td>$ 3.19</td>\n",
       "    </tr>\n",
       "  </tbody>\n",
       "</table>\n",
       "</div>"
      ],
      "text/plain": [
       "          Purchase Count Average Purchase Price Total Purchase Value  \\\n",
       "0    >10              23                 $ 3.35               $77.13   \n",
       "1  10-14              28                 $ 2.95               $82.78   \n",
       "2  15-19             136                 $ 3.03              $412.89   \n",
       "3  20-24             365                 $ 3.05            $1,114.06   \n",
       "4  25-29             101                 $ 2.90              $292.99   \n",
       "5  30-34              73                 $ 2.93              $214.00   \n",
       "6  35-39              41                 $ 3.60              $147.67   \n",
       "7    40+              13                 $ 2.94               $38.24   \n",
       "\n",
       "  Avg Total Purchase Per Player  \n",
       "0                        $ 4.54  \n",
       "1                        $ 3.76  \n",
       "2                        $ 3.86  \n",
       "3                        $ 4.32  \n",
       "4                        $ 3.81  \n",
       "5                        $ 4.12  \n",
       "6                        $ 4.76  \n",
       "7                        $ 3.19  "
      ]
     },
     "execution_count": 48,
     "metadata": {},
     "output_type": "execute_result"
    }
   ],
   "source": [
    "#Create a summary data frame to hold the results\n",
    "purchage={' ': ['>10', '10-14', '15-19', '20-24', '25-29', '30-34', '35-39', '40+'], \n",
    "           'Purchase Count': [count1,count2, count3, count4, count5, count6, count7, count8 ], \n",
    "           'Average Purchase Price': [pr1, pr2, pr3, pr4, pr5, pr6, pr7, pr8], \n",
    "           'Total Purchase Value': ['$77.13', '$82.78', '$412.89', '$1,114.06', '$292.99', '$214.00', '$147.67', '$38.24'], \n",
    "           'Avg Total Purchase Per Player': [(77.13/17), (82.78/22), (412.89/107), (1114.06/258), (292.99/77), (214/52), (147.67/31), (38.24/12)]}   \n",
    "\n",
    "purchagedf = pd.DataFrame(data=purchage)\n",
    "\n",
    "#Optional: give the displayed data cleaner formatting\n",
    "purchagedf[\"Average Purchase Price\"]=purchagedf[\"Average Purchase Price\"].map(\"${: ,.2f}\".format)\n",
    "#purchagedf[\"Total Purchase Value\"]=purchagedf[\"Total Purchase Value\"].map(\"${: ,.2f}\".format)\n",
    "purchagedf[\"Avg Total Purchase Per Player\"]=purchagedf[\"Avg Total Purchase Per Player\"].map(\"${: ,.2f}\".format)\n",
    "\n",
    "#Display the summary data frame\n",
    "purchagedf"
   ]
  },
  {
   "cell_type": "code",
   "execution_count": 49,
   "metadata": {},
   "outputs": [],
   "source": [
    "#And here's where I got completely stuck. How do I get the purchase count and then sort things by that? It's not like the age group buckets... I'm lost.\n",
    "#And not knowing how to do the purchase count and sort means I'm screwed for the last three sections. Because even when I was like,\n",
    "#whatever, I'll just type it all out and try it that way... still isn't going to get me the damn purchase count. \n",
    "\n",
    "#It's 25 hours I've been at this assignment. Why can't I do this? I get up at 4am every morning. I'm so tired and so frustrated. \n",
    "#And I'm sick of crying in my car and in the library and at work because of these homework assignments."
   ]
  },
  {
   "cell_type": "code",
   "execution_count": 50,
   "metadata": {},
   "outputs": [],
   "source": [
    "#Run basic calculations to obtain the results in the table below\n",
    "#spend=nadrop.loc[:, ['SN', 'Price']]\n",
    "#df=df.groupby('domain')['ID'].nunique()\n",
    "#Stolen from Stack Overflow, because I really am trying, despite sucking ass all the time\n",
    "#spend=ogdata.groupby('SN')['Purchase ID'].nunique()\n",
    "#spend=ogdata.groupby(['SN']).count()\n",
    "#spend"
   ]
  },
  {
   "cell_type": "code",
   "execution_count": 51,
   "metadata": {},
   "outputs": [],
   "source": [
    "#playergroup=ogdata.groupby(['SN'])\n",
    "#playergroup.head()\n",
    "\n",
    "#playergroups=ogdata.loc[:, ['SN', 'Price']]\n",
    "#playergrouped = pd.DataFrame(data=playergroups)\n",
    "#playergrouped\n",
    "\n",
    "#playagroup=playergrouped.groupby(['SN']).max()\n",
    "#playagroup.head()\n",
    "#ogdata.groupby('SN').agg(lambda x:  {'sum': x.sum(), 'mean':x.mean()})\n",
    "#ogdata.groupby(['SN']).count()\n",
    "#ogdata.sort_values(\"SN\", ascending=False)\n",
    "#ogdata.head()\n",
    "\n",
    "\n",
    "#Other people do this. Why the hell can't I do this? I'm not always this stupid, I swear. I have two Master's degrees. What the fuck is wrong with me? \n",
    "#I asked for help in the slack. It's all I've got now or this'll never get done. \n",
    "\n",
    "# purch_groupdf.head()"
   ]
  },
  {
   "cell_type": "code",
   "execution_count": 52,
   "metadata": {},
   "outputs": [],
   "source": [
    "#Create a summary data frame to hold the results\n",
    "#SN_d = dict(zip(nadrop['SN']))\n",
    "\n",
    "#spenddf={'SN': [SN_d], \n",
    "           #'Purchase Count': [ ], \n",
    "           #'Average Purchase Price': [ ] \n",
    "           #'Total Purchase Value': [ ], \n",
    "           #'Avg Total Purchase Per Player': []}\n",
    "\n",
    "#spenddf = pd.DataFrame(data=spend)\n",
    "\n",
    "#Sort the total purchase value column in descending order\n",
    "\n",
    "\n",
    "#Optional: give the displayed data cleaner formatting\n",
    "#spenddf[\"Average Purchase Price\"]=spenddf[\"Average Purchase Price\"].map(\"${: ,.2f}\".format)\n",
    "#spenddf[\"Total Purchase Value\"]=spenddf[\"Total Purchase Value\"].map(\"${: ,.2f}\".format)\n",
    "\n",
    "#Display a preview of the summary data frame"
   ]
  },
  {
   "cell_type": "code",
   "execution_count": 53,
   "metadata": {},
   "outputs": [],
   "source": [
    "#Retrieve the Item ID, Item Name, and Item Price columns\n",
    "#popthings=ogdata[[\"Item ID\", \"Item Name\", \"Price\"]]\n",
    "#popthings.head()"
   ]
  },
  {
   "cell_type": "code",
   "execution_count": 54,
   "metadata": {},
   "outputs": [],
   "source": [
    "#Group by Item ID and Item Name. Perform calculations to obtain purchase count, item price, and total purchase value\n",
    "popthings=ogdata.groupby(['Item Name']).count()\n",
    "\n",
    "#So I can get it to count how many times the thing was purchased... but I don't know how to get that back into a dataframe. \n",
    "#popcount=pd.cut(ogdata['Item Name'], )\n",
    "\n",
    "#Ok, so here were the suggestions I got when I broke down and asked my classmates over slack how to friggin do this\n",
    "#popthingsdf=pd.DataFrame({\"Purchase Count\": count(x), \"Average Purchase Price\": mean(x), \"Total Purchase Value\": sum(x)})\n",
    "#Well, that one didn't work. Which is probably my fault, but I don't know how. \n",
    "#ogdata.groupby(by='SN').sum().sort_values(by='SN')\n",
    "#So that does... something... though I can't parse what. And it doesn't get me any closer to what I needed. "
   ]
  },
  {
   "cell_type": "code",
   "execution_count": 55,
   "metadata": {},
   "outputs": [],
   "source": [
    "#Create a summary data frame to hold the results\n",
    "#popits={'Item ID': ['0', '1', '2', '3', '4', '5', '6', '7', '8', '9', '10', '11', '12', '13', '14', '15', '16', '17', '18', '19',\n",
    "                    #'20', '21', '22', '23', '24', '25', '26', '27', '28', '29', '30', '31', '32', '33', '34', '35', '36', '37', '38',\n",
    "                    #'39', '40', '41', '42', '43', '44', '45', '46', '47', '48', '49', '50', '51', '52', '53', '54', '55', '56', '57', \n",
    "                    #'58', '59', '60', '61', '62', '63', '64', '65', '66', '67', '68', '69', '70', '71', '72', '73', '74', '75', '76',\n",
    "                    #'77', '78', '79', '80', '81', '82', '83', '84', '85', '86', '87', '88', '89', '90', '91', '92', '93', '94', '95', \n",
    "                    #'96', '97', '98', '99', '100', '101', '102', '103', '104', '105', '106', '107', '108', '109', '110', '111', '112', \n",
    "                    #'113', '114', '115', '116', '117', '118', '119', '120', '121', '122', '123', '124', '125', '126', '127', '128', '129',\n",
    "                    #'130', '131', '132', '133', '134', '135', '136', '137', '138', '139', '140', '141', '142', '143', '144', '145', '146',\n",
    "                    #'147', '148', '149', '150', '151', '152', '153', '154', '155', '156', '157', '158', '159', '160', '161', '162', '163', \n",
    "                    #'164', '165', '166', '167', '168', '169', '170', '171', '172', '173', '174', '175', '176', '177', '178', '179', '180', '181',],\n",
    "          #'Item Name': [ ],\n",
    "          #'Purchase Count': []\n",
    "          #'Item Price': [],\n",
    "          #'Total Purchase Value': [ ]}\n",
    "\n",
    "#Display the summary data frame\n",
    "#playinfodf = pd.DataFrame(data=playinfo)\n",
    "\n",
    "#Optional: give the displayed data cleaner formatting\n",
    "#playinfodf['Percentage of Players']=playinfodf[\"Percentage of Players\"].map(\"{0:.2f}%\".format)\n",
    "\n",
    "\n",
    "\n",
    "#Sort the purchase count column in descending order\n",
    "\n",
    "\n",
    "#Optional: give the displayed data cleaner formatting\n",
    "\n",
    "\n",
    "#Display a preview of the summary data frame\n",
    "\n",
    "#Other people can do this. Why can't I do this? You think if I have a total emotional breakdown they'll give me a partial refund?\n",
    "#I'm 98% of the way there already. I hate how this feels. I can't do this anymore. I keep trying and all I do is fail."
   ]
  }
 ],
 "metadata": {
  "kernelspec": {
   "display_name": "Python [default]",
   "language": "python",
   "name": "python3"
  },
  "language_info": {
   "codemirror_mode": {
    "name": "ipython",
    "version": 3
   },
   "file_extension": ".py",
   "mimetype": "text/x-python",
   "name": "python",
   "nbconvert_exporter": "python",
   "pygments_lexer": "ipython3",
   "version": "3.6.5"
  }
 },
 "nbformat": 4,
 "nbformat_minor": 2
}
